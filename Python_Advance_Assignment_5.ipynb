{
  "nbformat": 4,
  "nbformat_minor": 0,
  "metadata": {
    "colab": {
      "name": "Python_Advance_Assignment_5.ipynb",
      "provenance": []
    },
    "kernelspec": {
      "name": "python3",
      "display_name": "Python 3"
    },
    "language_info": {
      "name": "python"
    }
  },
  "cells": [
    {
      "cell_type": "markdown",
      "source": [
        "Q1). What is the meaning of multiple inheritance?\n",
        "\n",
        "Ans) Multiple inheritance means that a subclass can inherit from two or more superclasses."
      ],
      "metadata": {
        "id": "1_jlSOC-N-bS"
      }
    },
    {
      "cell_type": "markdown",
      "source": [
        "Q2). What is the concept of delegation?\n",
        "\n",
        "Ans) An object-oriented design pattern that allows object composition to achieve the same code reuse as inheritance."
      ],
      "metadata": {
        "id": "A6Gv0FfPN-X5"
      }
    },
    {
      "cell_type": "markdown",
      "source": [
        "Q3). What is the concept of composition?\n",
        "\n",
        "Ans) Composition is relationships between classes and objects"
      ],
      "metadata": {
        "id": "Q0JVOUeJN-VJ"
      }
    },
    {
      "cell_type": "markdown",
      "source": [
        "Q4). What are bound methods and how do we use them?\n",
        "\n",
        "Ans) A bound method is the one which is dependent on the instance of the class as the first argument"
      ],
      "metadata": {
        "id": "6bNJhD0lN-SM"
      }
    },
    {
      "cell_type": "markdown",
      "source": [
        "Q5). What is the purpose of pseudoprivate attributes?\n",
        "\n",
        "Ans) to avoid namespace collisions in instances, not to restrict access to names in general."
      ],
      "metadata": {
        "id": "PKEBBRLNN-Pa"
      }
    },
    {
      "cell_type": "code",
      "execution_count": null,
      "metadata": {
        "id": "OhUMHRoqMG6i"
      },
      "outputs": [],
      "source": [
        ""
      ]
    }
  ]
}